{
  "nbformat": 4,
  "nbformat_minor": 0,
  "metadata": {
    "colab": {
      "provenance": [],
      "gpuType": "T4"
    },
    "kernelspec": {
      "name": "python3",
      "display_name": "Python 3"
    },
    "language_info": {
      "name": "python"
    },
    "accelerator": "GPU"
  },
  "cells": [
    {
      "cell_type": "markdown",
      "source": [
        "# Bank Loan Prediction - Supervised Learning\n",
        "### Name: Burhan Hadi Butt\n",
        "### Enrollment: 03-134211-008\n",
        "### Class: BSCS - 8A"
      ],
      "metadata": {
        "id": "88BYSKZM3EnU"
      }
    },
    {
      "cell_type": "markdown",
      "source": [
        "## Import Libraries"
      ],
      "metadata": {
        "id": "Jgo5-hRz3Lql"
      }
    },
    {
      "cell_type": "code",
      "source": [
        "# Import the necessary modules\n",
        "import pandas as pd\n",
        "import numpy as np\n",
        "import matplotlib.pyplot as plt\n",
        "import seaborn as sns\n",
        "\n",
        "from sklearn.model_selection import train_test_split\n",
        "from sklearn.preprocessing import StandardScaler\n",
        "from sklearn.tree import DecisionTreeClassifier\n",
        "from sklearn.ensemble import RandomForestClassifier, GradientBoostingClassifier\n",
        "from sklearn.svm import SVC\n",
        "from sklearn.neighbors import KNeighborsClassifier\n",
        "from sklearn.decomposition import PCA\n",
        "from sklearn.feature_selection import RFE\n",
        "from sklearn.linear_model import LogisticRegression\n",
        "from sklearn.metrics import accuracy_score"
      ],
      "metadata": {
        "id": "XJah0rpo3LUb"
      },
      "execution_count": 1,
      "outputs": []
    },
    {
      "cell_type": "markdown",
      "source": [
        "## Load the Dataset"
      ],
      "metadata": {
        "id": "cAdfZiN13b6B"
      }
    },
    {
      "cell_type": "code",
      "execution_count": 2,
      "metadata": {
        "id": "wJlGucyOzC3A"
      },
      "outputs": [],
      "source": [
        "# Load the training and testing data\n",
        "dataset = pd.read_csv('/content/drive/MyDrive/Datasets/DM/Assignment 2/bankloan.csv')"
      ]
    },
    {
      "cell_type": "markdown",
      "source": [
        "## Data Exploration"
      ],
      "metadata": {
        "id": "ko2iePt63gNS"
      }
    },
    {
      "cell_type": "code",
      "source": [
        "# First few rows of the dataset\n",
        "print(dataset.head())"
      ],
      "metadata": {
        "colab": {
          "base_uri": "https://localhost:8080/"
        },
        "id": "z1Baw_h93g2e",
        "outputId": "bd221b08-ffd0-4de4-fcfe-ccb2fdb2e91e"
      },
      "execution_count": 3,
      "outputs": [
        {
          "output_type": "stream",
          "name": "stdout",
          "text": [
            "   ID  Age  Experience  Income  ZIP.Code  Family  CCAvg  Education  Mortgage  \\\n",
            "0   1   25           1      49     91107       4    1.6          1         0   \n",
            "1   2   45          19      34     90089       3    1.5          1         0   \n",
            "2   3   39          15      11     94720       1    1.0          1         0   \n",
            "3   4   35           9     100     94112       1    2.7          2         0   \n",
            "4   5   35           8      45     91330       4    1.0          2         0   \n",
            "\n",
            "   Personal.Loan  Securities.Account  CD.Account  Online  CreditCard  \n",
            "0              0                   1           0       0           0  \n",
            "1              0                   1           0       0           0  \n",
            "2              0                   0           0       0           0  \n",
            "3              0                   0           0       0           0  \n",
            "4              0                   0           0       0           1  \n"
          ]
        }
      ]
    },
    {
      "cell_type": "code",
      "source": [
        "# Information about the dataset\n",
        "print(dataset.info())"
      ],
      "metadata": {
        "colab": {
          "base_uri": "https://localhost:8080/"
        },
        "id": "F2YDWMkC58Wu",
        "outputId": "77df4ff4-3cf9-4142-c63d-2be5aeb0edfb"
      },
      "execution_count": 4,
      "outputs": [
        {
          "output_type": "stream",
          "name": "stdout",
          "text": [
            "<class 'pandas.core.frame.DataFrame'>\n",
            "RangeIndex: 5000 entries, 0 to 4999\n",
            "Data columns (total 14 columns):\n",
            " #   Column              Non-Null Count  Dtype  \n",
            "---  ------              --------------  -----  \n",
            " 0   ID                  5000 non-null   int64  \n",
            " 1   Age                 5000 non-null   int64  \n",
            " 2   Experience          5000 non-null   int64  \n",
            " 3   Income              5000 non-null   int64  \n",
            " 4   ZIP.Code            5000 non-null   int64  \n",
            " 5   Family              5000 non-null   int64  \n",
            " 6   CCAvg               5000 non-null   float64\n",
            " 7   Education           5000 non-null   int64  \n",
            " 8   Mortgage            5000 non-null   int64  \n",
            " 9   Personal.Loan       5000 non-null   int64  \n",
            " 10  Securities.Account  5000 non-null   int64  \n",
            " 11  CD.Account          5000 non-null   int64  \n",
            " 12  Online              5000 non-null   int64  \n",
            " 13  CreditCard          5000 non-null   int64  \n",
            "dtypes: float64(1), int64(13)\n",
            "memory usage: 547.0 KB\n",
            "None\n"
          ]
        }
      ]
    },
    {
      "cell_type": "code",
      "source": [
        "# Summary statistics\n",
        "print(dataset.describe())"
      ],
      "metadata": {
        "colab": {
          "base_uri": "https://localhost:8080/"
        },
        "id": "qmGsqaxP5-iM",
        "outputId": "37b06045-681a-4304-e222-568c88e97b0f"
      },
      "execution_count": 5,
      "outputs": [
        {
          "output_type": "stream",
          "name": "stdout",
          "text": [
            "                ID          Age   Experience       Income      ZIP.Code  \\\n",
            "count  5000.000000  5000.000000  5000.000000  5000.000000   5000.000000   \n",
            "mean   2500.500000    45.338400    20.104600    73.774200  93152.503000   \n",
            "std    1443.520003    11.463166    11.467954    46.033729   2121.852197   \n",
            "min       1.000000    23.000000    -3.000000     8.000000   9307.000000   \n",
            "25%    1250.750000    35.000000    10.000000    39.000000  91911.000000   \n",
            "50%    2500.500000    45.000000    20.000000    64.000000  93437.000000   \n",
            "75%    3750.250000    55.000000    30.000000    98.000000  94608.000000   \n",
            "max    5000.000000    67.000000    43.000000   224.000000  96651.000000   \n",
            "\n",
            "            Family        CCAvg    Education     Mortgage  Personal.Loan  \\\n",
            "count  5000.000000  5000.000000  5000.000000  5000.000000    5000.000000   \n",
            "mean      2.396400     1.937938     1.881000    56.498800       0.096000   \n",
            "std       1.147663     1.747659     0.839869   101.713802       0.294621   \n",
            "min       1.000000     0.000000     1.000000     0.000000       0.000000   \n",
            "25%       1.000000     0.700000     1.000000     0.000000       0.000000   \n",
            "50%       2.000000     1.500000     2.000000     0.000000       0.000000   \n",
            "75%       3.000000     2.500000     3.000000   101.000000       0.000000   \n",
            "max       4.000000    10.000000     3.000000   635.000000       1.000000   \n",
            "\n",
            "       Securities.Account  CD.Account       Online   CreditCard  \n",
            "count         5000.000000  5000.00000  5000.000000  5000.000000  \n",
            "mean             0.104400     0.06040     0.596800     0.294000  \n",
            "std              0.305809     0.23825     0.490589     0.455637  \n",
            "min              0.000000     0.00000     0.000000     0.000000  \n",
            "25%              0.000000     0.00000     0.000000     0.000000  \n",
            "50%              0.000000     0.00000     1.000000     0.000000  \n",
            "75%              0.000000     0.00000     1.000000     1.000000  \n",
            "max              1.000000     1.00000     1.000000     1.000000  \n"
          ]
        }
      ]
    },
    {
      "cell_type": "markdown",
      "source": [
        "## Manual Feature Selection"
      ],
      "metadata": {
        "id": "ksraBy3K3hPF"
      }
    },
    {
      "cell_type": "markdown",
      "source": [
        "### Feature Selection"
      ],
      "metadata": {
        "id": "CJWfLopHCcsT"
      }
    },
    {
      "cell_type": "code",
      "source": [
        "# Input Features\n",
        "X_mfs = dataset[['Age', 'Experience', 'Income', 'Family', 'CCAvg', 'Education', 'Mortgage', 'Securities.Account', 'CD.Account', 'Online', 'CreditCard']]"
      ],
      "metadata": {
        "id": "hzd_TeiG3otL"
      },
      "execution_count": 6,
      "outputs": []
    },
    {
      "cell_type": "code",
      "source": [
        "# Output Features\n",
        "y_mfs = dataset['Personal.Loan']"
      ],
      "metadata": {
        "id": "2W2HkTq76YhD"
      },
      "execution_count": 7,
      "outputs": []
    },
    {
      "cell_type": "markdown",
      "source": [
        "### Dataset Preprocessing"
      ],
      "metadata": {
        "id": "y7Jx1-ue7PeH"
      }
    },
    {
      "cell_type": "code",
      "source": [
        "# Split the data into training and testing sets\n",
        "X_train_mfs, X_test_mfs, y_train_mfs, y_test_mfs = train_test_split(X_mfs, y_mfs, test_size=0.3, random_state=42)"
      ],
      "metadata": {
        "id": "lvFrWlWu7QTW"
      },
      "execution_count": 8,
      "outputs": []
    },
    {
      "cell_type": "code",
      "source": [
        "# Standardize the data\n",
        "scaler = StandardScaler()\n",
        "X_train_scaled_mfs = scaler.fit_transform(X_train_mfs)\n",
        "X_test_scaled_mfs = scaler.transform(X_test_mfs)"
      ],
      "metadata": {
        "id": "xXWtwmPh7Ler"
      },
      "execution_count": 9,
      "outputs": []
    },
    {
      "cell_type": "markdown",
      "source": [
        "### Model Training and Testing"
      ],
      "metadata": {
        "id": "E6SUFWwb3zk0"
      }
    },
    {
      "cell_type": "code",
      "source": [
        "# Classifier 1: Decision Tree\n",
        "dt_model = DecisionTreeClassifier(random_state=42)\n",
        "dt_model.fit(X_train_scaled_mfs, y_train_mfs)\n",
        "y_pred_dt_mfs = dt_model.predict(X_test_scaled_mfs)\n",
        "\n",
        "# Classifier 2: Random Forest\n",
        "rf_model = RandomForestClassifier(random_state=42)\n",
        "rf_model.fit(X_train_scaled_mfs, y_train_mfs)\n",
        "y_pred_rf_mfs = rf_model.predict(X_test_scaled_mfs)\n",
        "\n",
        "# Classifier 3: Support Vector Machine (SVM)\n",
        "svm_model = SVC()\n",
        "svm_model.fit(X_train_scaled_mfs, y_train_mfs)\n",
        "y_pred_svm_mfs = svm_model.predict(X_test_scaled_mfs)\n",
        "\n",
        "# Classifier 4: K-Nearest Neighbors (KNN)\n",
        "knn_model = KNeighborsClassifier()\n",
        "knn_model.fit(X_train_scaled_mfs, y_train_mfs)\n",
        "y_pred_knn_mfs = knn_model.predict(X_test_scaled_mfs)\n",
        "\n",
        "# Classifier 5: Gradient Boosting Classifier\n",
        "gb_model = GradientBoostingClassifier(random_state=42)\n",
        "gb_model.fit(X_train_scaled_mfs, y_train_mfs)\n",
        "y_pred_gb_mfs = gb_model.predict(X_test_scaled_mfs)"
      ],
      "metadata": {
        "id": "BOwbkFKy8TF7"
      },
      "execution_count": 10,
      "outputs": []
    },
    {
      "cell_type": "markdown",
      "source": [
        "### Model Evaluation"
      ],
      "metadata": {
        "id": "hIH_a25K-Fsh"
      }
    },
    {
      "cell_type": "code",
      "source": [
        "# Accuracy Score\n",
        "accuracy_dt_mfs = accuracy_score(y_test_mfs, y_pred_dt_mfs)\n",
        "accuracy_rf_mfs = accuracy_score(y_test_mfs, y_pred_rf_mfs)\n",
        "accuracy_svm_mfs = accuracy_score(y_test_mfs, y_pred_svm_mfs)\n",
        "accuracy_knn_mfs = accuracy_score(y_test_mfs, y_pred_knn_mfs)\n",
        "accuracy_gb_mfs = accuracy_score(y_test_mfs, y_pred_gb_mfs)"
      ],
      "metadata": {
        "id": "uyU0mSSR99WI"
      },
      "execution_count": 11,
      "outputs": []
    },
    {
      "cell_type": "code",
      "source": [
        "# Display Accuracy Scores\n",
        "print(\"Accuracy Scores - Manual Feature Extraction\\n\")\n",
        "print(f\"Decision Tree: {accuracy_dt_mfs:.2f}\")\n",
        "print(f\"Random Forest: {accuracy_rf_mfs:.2f}\")\n",
        "print(f\"Support Vector Machine (SVM): {accuracy_svm_mfs:.2f}\")\n",
        "print(f\"K-Nearest Neighbors (KNN): {accuracy_knn_mfs:.2f}\")\n",
        "print(f\"Gradient Boosting Classifier: {accuracy_gb_mfs:.2f}\")"
      ],
      "metadata": {
        "colab": {
          "base_uri": "https://localhost:8080/"
        },
        "id": "8omr3LQG8z6P",
        "outputId": "1687c896-c16d-4467-e2d4-27986d2590ca"
      },
      "execution_count": 12,
      "outputs": [
        {
          "output_type": "stream",
          "name": "stdout",
          "text": [
            "Accuracy Scores - Manual Feature Extraction\n",
            "\n",
            "Decision Tree: 0.98\n",
            "Random Forest: 0.99\n",
            "Support Vector Machine (SVM): 0.97\n",
            "K-Nearest Neighbors (KNN): 0.96\n",
            "Gradient Boosting Classifier: 0.99\n"
          ]
        }
      ]
    },
    {
      "cell_type": "markdown",
      "source": [
        "## Principal Component Analysis"
      ],
      "metadata": {
        "id": "sRCrzrQJAy1f"
      }
    },
    {
      "cell_type": "markdown",
      "source": [
        "### Datset Preprocessing"
      ],
      "metadata": {
        "id": "6R-324EbA4LW"
      }
    },
    {
      "cell_type": "code",
      "source": [
        "# Seperate input and output features\n",
        "X = dataset.drop(columns=['Personal.Loan'])\n",
        "y = dataset['Personal.Loan']"
      ],
      "metadata": {
        "id": "-V7Oqa4UAvWp"
      },
      "execution_count": 13,
      "outputs": []
    },
    {
      "cell_type": "code",
      "source": [
        "# Split the data into training and testing sets\n",
        "X_train_pca, X_test_pca, y_train_pca, y_test_pca = train_test_split(X, y, test_size=0.3, random_state=42)"
      ],
      "metadata": {
        "id": "q9ryrp8EBBHK"
      },
      "execution_count": 14,
      "outputs": []
    },
    {
      "cell_type": "code",
      "source": [
        "# Standardize the data\n",
        "scaler = StandardScaler()\n",
        "X_train_scaled_pca = scaler.fit_transform(X_train_pca)\n",
        "X_test_scaled_pca = scaler.transform(X_test_pca)"
      ],
      "metadata": {
        "id": "3h2t1ZsqBPaf"
      },
      "execution_count": 15,
      "outputs": []
    },
    {
      "cell_type": "markdown",
      "source": [
        "### Automatic Feature Extraction"
      ],
      "metadata": {
        "id": "a0JLzIlQ_V_q"
      }
    },
    {
      "cell_type": "code",
      "source": [
        "# Principal Component Analysis\n",
        "pca = PCA(n_components=10)\n",
        "X_train_pca_extracted = pca.fit_transform(X_train_scaled_pca)\n",
        "X_test_pca_extracted = pca.transform(X_test_scaled_pca)"
      ],
      "metadata": {
        "id": "V3kiaYVt_Vrs"
      },
      "execution_count": 16,
      "outputs": []
    },
    {
      "cell_type": "markdown",
      "source": [
        "### Model Training and Testing"
      ],
      "metadata": {
        "id": "99xcsG3KBfoc"
      }
    },
    {
      "cell_type": "code",
      "source": [
        "# Classifier 1: Decision Tree\n",
        "dt_model.fit(X_train_pca_extracted, y_train_pca)\n",
        "y_pred_dt_pca = dt_model.predict(X_test_pca_extracted)\n",
        "\n",
        "# Classifier 2: Random Forest\n",
        "rf_model.fit(X_train_pca_extracted, y_train_pca)\n",
        "y_pred_rf_pca = rf_model.predict(X_test_pca_extracted)\n",
        "\n",
        "# Classifier 3: Support Vector Machine (SVM)\n",
        "svm_model.fit(X_train_pca_extracted, y_train_pca)\n",
        "y_pred_svm_pca = svm_model.predict(X_test_pca_extracted)\n",
        "\n",
        "# Classifier 4: K-Nearest Neighbors (KNN)\n",
        "knn_model.fit(X_train_pca_extracted, y_train_pca)\n",
        "y_pred_knn_pca = knn_model.predict(X_test_pca_extracted)\n",
        "\n",
        "# Classifier 5: Gradient Boosting Classifier\n",
        "gb_model.fit(X_train_pca_extracted, y_train_pca)\n",
        "y_pred_gb_pca = gb_model.predict(X_test_pca_extracted)"
      ],
      "metadata": {
        "id": "n9xJEK0fBn2P"
      },
      "execution_count": 17,
      "outputs": []
    },
    {
      "cell_type": "markdown",
      "source": [
        "### Model Evaluation"
      ],
      "metadata": {
        "id": "0-i_7iSCBw4r"
      }
    },
    {
      "cell_type": "code",
      "source": [
        "# Accuracy Score\n",
        "accuracy_dt_pca = accuracy_score(y_test_pca, y_pred_dt_pca)\n",
        "accuracy_rf_pca = accuracy_score(y_test_pca, y_pred_rf_pca)\n",
        "accuracy_svm_pca = accuracy_score(y_test_pca, y_pred_svm_pca)\n",
        "accuracy_knn_pca = accuracy_score(y_test_pca, y_pred_knn_pca)\n",
        "accuracy_gb_pca = accuracy_score(y_test_pca, y_pred_gb_pca)"
      ],
      "metadata": {
        "id": "wAtmTd4HBtOB"
      },
      "execution_count": 18,
      "outputs": []
    },
    {
      "cell_type": "code",
      "source": [
        "# Display Accuracy Scores\n",
        "print(\"Accuracy Scores - Principal Component Analysis\\n\")\n",
        "print(f\"Decision Tree: {accuracy_dt_pca:.2f}\")\n",
        "print(f\"Random Forest: {accuracy_rf_pca:.2f}\")\n",
        "print(f\"Support Vector Machine (SVM): {accuracy_svm_pca:.2f}\")\n",
        "print(f\"K-Nearest Neighbors (KNN): {accuracy_knn_pca:.2f}\")\n",
        "print(f\"Gradient Boosting Classifier: {accuracy_gb_pca:.2f}\")"
      ],
      "metadata": {
        "colab": {
          "base_uri": "https://localhost:8080/"
        },
        "id": "_9o5O2erBtKV",
        "outputId": "dd6fe5e2-e928-4f50-c536-035879d99860"
      },
      "execution_count": 19,
      "outputs": [
        {
          "output_type": "stream",
          "name": "stdout",
          "text": [
            "Accuracy Scores - Principal Component Analysis\n",
            "\n",
            "Decision Tree: 0.92\n",
            "Random Forest: 0.95\n",
            "Support Vector Machine (SVM): 0.96\n",
            "K-Nearest Neighbors (KNN): 0.94\n",
            "Gradient Boosting Classifier: 0.95\n"
          ]
        }
      ]
    },
    {
      "cell_type": "markdown",
      "source": [
        "## Recursive Feature Elimination"
      ],
      "metadata": {
        "id": "9eKSiTehCkdp"
      }
    },
    {
      "cell_type": "markdown",
      "source": [
        "### Data Preprocessing"
      ],
      "metadata": {
        "id": "JxvZxt3TCnCS"
      }
    },
    {
      "cell_type": "code",
      "source": [
        "# Split the data into training and testing sets\n",
        "X_train_rfe, X_test_rfe, y_train_rfe, y_test_rfe = train_test_split(X, y, test_size=0.3, random_state=42)"
      ],
      "metadata": {
        "id": "T4gjXeLwC4vx"
      },
      "execution_count": 20,
      "outputs": []
    },
    {
      "cell_type": "code",
      "source": [
        "# Standardize the data\n",
        "scaler = StandardScaler()\n",
        "X_train_scaled_rfe = scaler.fit_transform(X_train_rfe)\n",
        "X_test_scaled_rfe = scaler.transform(X_test_rfe)"
      ],
      "metadata": {
        "id": "2HTMYKFhDAVV"
      },
      "execution_count": 21,
      "outputs": []
    },
    {
      "cell_type": "markdown",
      "source": [
        "## Automatic Feature Extraction"
      ],
      "metadata": {
        "id": "Z0MlCzb9DJ4M"
      }
    },
    {
      "cell_type": "code",
      "source": [
        "# Recursive Feature Elimination\n",
        "log_reg = LogisticRegression(max_iter=1000, random_state=42)\n",
        "rfe = RFE(estimator=log_reg, n_features_to_select=5)\n",
        "X_train_rfe_extracted = rfe.fit_transform(X_train_scaled_rfe, y_train_rfe)\n",
        "X_test_rfe_extracted = rfe.transform(X_test_scaled_rfe)"
      ],
      "metadata": {
        "id": "z9WulaceDLOw"
      },
      "execution_count": 22,
      "outputs": []
    },
    {
      "cell_type": "markdown",
      "source": [
        "### Model Training and Testing"
      ],
      "metadata": {
        "id": "Y9F7kWBBDNWA"
      }
    },
    {
      "cell_type": "code",
      "source": [
        "# Classifier 1: Decision Tree\n",
        "dt_model.fit(X_train_rfe_extracted, y_train_rfe)\n",
        "y_pred_dt_rfe = dt_model.predict(X_test_rfe_extracted)\n",
        "\n",
        "# Classifier 2: Random Forest\n",
        "rf_model.fit(X_train_rfe_extracted, y_train_rfe)\n",
        "y_pred_rf_rfe = rf_model.predict(X_test_rfe_extracted)\n",
        "\n",
        "# Classifier 3: Support Vector Machine (SVM)\n",
        "svm_model.fit(X_train_rfe_extracted, y_train_rfe)\n",
        "y_pred_svm_rfe = svm_model.predict(X_test_rfe_extracted)\n",
        "\n",
        "# Classifier 4: K-Nearest Neighbors (KNN)\n",
        "knn_model.fit(X_train_rfe_extracted, y_train_rfe)\n",
        "y_pred_knn_rfe = knn_model.predict(X_test_rfe_extracted)\n",
        "\n",
        "# Classifier 5: Gradient Boosting Classifier\n",
        "gb_model.fit(X_train_rfe_extracted, y_train_rfe)\n",
        "y_pred_gb_rfe = gb_model.predict(X_test_rfe_extracted)"
      ],
      "metadata": {
        "id": "NtT7WXPUDM_B"
      },
      "execution_count": 23,
      "outputs": []
    },
    {
      "cell_type": "markdown",
      "source": [
        "### Model Evaluation"
      ],
      "metadata": {
        "id": "P2VYPPqpELTa"
      }
    },
    {
      "cell_type": "code",
      "source": [
        "# Accuracy Score\n",
        "accuracy_dt_rfe = accuracy_score(y_test_rfe, y_pred_dt_rfe)\n",
        "accuracy_rf_rfe = accuracy_score(y_test_rfe, y_pred_rf_rfe)\n",
        "accuracy_svm_rfe = accuracy_score(y_test_rfe, y_pred_svm_rfe)\n",
        "accuracy_knn_rfe = accuracy_score(y_test_rfe, y_pred_knn_rfe)\n",
        "accuracy_gb_rfe = accuracy_score(y_test_rfe, y_pred_gb_rfe)"
      ],
      "metadata": {
        "id": "QW6UfneOENPB"
      },
      "execution_count": 24,
      "outputs": []
    },
    {
      "cell_type": "code",
      "source": [
        "# Display Accuracy Scores\n",
        "print(\"Accuracy Scores - Recursive Feature Elimination\\n\")\n",
        "print(f\"Decision Tree: {accuracy_dt_rfe:.2f}\")\n",
        "print(f\"Random Forest: {accuracy_rf_rfe:.2f}\")\n",
        "print(f\"Support Vector Machine (SVM): {accuracy_svm_rfe:.2f}\")\n",
        "print(f\"K-Nearest Neighbors (KNN): {accuracy_knn_rfe:.2f}\")\n",
        "print(f\"Gradient Boosting Classifier: {accuracy_gb_rfe:.2f}\")"
      ],
      "metadata": {
        "colab": {
          "base_uri": "https://localhost:8080/"
        },
        "id": "CpRWGA3HEO8Q",
        "outputId": "f8e4744c-0d6a-4bd0-cda4-e98a4ea02c34"
      },
      "execution_count": 25,
      "outputs": [
        {
          "output_type": "stream",
          "name": "stdout",
          "text": [
            "Accuracy Scores - Recursive Feature Elimination\n",
            "\n",
            "Decision Tree: 0.98\n",
            "Random Forest: 0.98\n",
            "Support Vector Machine (SVM): 0.98\n",
            "K-Nearest Neighbors (KNN): 0.98\n",
            "Gradient Boosting Classifier: 0.98\n"
          ]
        }
      ]
    },
    {
      "cell_type": "markdown",
      "source": [
        "### Results\n",
        "\n",
        "*   Manual Selection produced the highest overall accuracy, but it might be tailored and may involve bias from choosing features.\n",
        "*   PCA effectively reduced dimensionality with a minimal drop in performance, beneficial for simplifying the model.\n",
        "*   RFE demonstrated high accuracy while automating the selection process, ensuring that the chosen features contribute significantly to model performance."
      ],
      "metadata": {
        "id": "16IZa8dYE9If"
      }
    },
    {
      "cell_type": "markdown",
      "source": [
        "### Conclusion\n",
        "The results indicate that manual feature selection can yield exceptional model performance when domain knowledge is available. However, RFE stands out as a strong automated technique for feature extraction, offering high accuracy with minimal manual intervention. PCA, while slightly less accurate, provides a practical solution for dimensionality reduction, balancing performance and computational efficiency. Each method has its benefits, and the choice depends on the specific requirements of the problem, such as the need for model interpretability or computational resources."
      ],
      "metadata": {
        "id": "erIdLoEOFQXO"
      }
    }
  ]
}