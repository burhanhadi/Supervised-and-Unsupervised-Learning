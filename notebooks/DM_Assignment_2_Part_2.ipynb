{
  "nbformat": 4,
  "nbformat_minor": 0,
  "metadata": {
    "colab": {
      "provenance": [],
      "gpuType": "T4"
    },
    "kernelspec": {
      "name": "python3",
      "display_name": "Python 3"
    },
    "language_info": {
      "name": "python"
    },
    "accelerator": "GPU"
  },
  "cells": [
    {
      "cell_type": "markdown",
      "source": [
        "# Breast Cancer Prediction - Supervised Learning\n",
        "### Name: Burhan Hadi Butt\n",
        "### Enrollment: 03-134211-008\n",
        "### Class: BSCS - 8A"
      ],
      "metadata": {
        "id": "Sqpt2MujeGCX"
      }
    },
    {
      "cell_type": "markdown",
      "source": [
        "## Import Libraries"
      ],
      "metadata": {
        "id": "YkxQB6iGeJhJ"
      }
    },
    {
      "cell_type": "code",
      "source": [
        "# Import the necessary modules\n",
        "import pandas as pd\n",
        "import numpy as np\n",
        "import matplotlib.pyplot as plt\n",
        "import seaborn as sns\n",
        "\n",
        "from sklearn.model_selection import cross_val_score\n",
        "from sklearn.model_selection import train_test_split\n",
        "from sklearn.feature_selection import VarianceThreshold, RFE\n",
        "from sklearn.linear_model import LogisticRegression\n",
        "from sklearn.tree import DecisionTreeClassifier\n",
        "from sklearn.ensemble import RandomForestClassifier, GradientBoostingClassifier\n",
        "from sklearn.svm import SVC\n",
        "from sklearn.neighbors import KNeighborsClassifier\n",
        "from sklearn.metrics import accuracy_score, precision_score, recall_score, f1_score, classification_report, confusion_matrix"
      ],
      "metadata": {
        "id": "1qxYPUO4kNbw"
      },
      "execution_count": 1,
      "outputs": []
    },
    {
      "cell_type": "markdown",
      "source": [
        "## Load the Dataset"
      ],
      "metadata": {
        "id": "D9MrdUJGePnP"
      }
    },
    {
      "cell_type": "markdown",
      "source": [
        "Dataset Details:\n",
        "* The dataset contains 569 records, representing individual patient data.\n",
        "* 30 scaled features representing various measurements related to tumor characteristics.\n",
        "* All features are standardized using StandardScaler to have zero mean and unit variance, which helps improve model performance.\n",
        "* Target Variable (diagnosis) represents the target class (label) for each patient."
      ],
      "metadata": {
        "id": "eIOlunG3fJug"
      }
    },
    {
      "cell_type": "code",
      "source": [
        "# Load the training and testing data\n",
        "dataset = pd.read_csv('/content/drive/MyDrive/Datasets/DM/Assignment 2/scaled_breast_cancer_dataset.csv')"
      ],
      "metadata": {
        "id": "6tAa7C4YeNla"
      },
      "execution_count": 2,
      "outputs": []
    },
    {
      "cell_type": "markdown",
      "source": [
        "## Data Exploration"
      ],
      "metadata": {
        "id": "eJW3gjC4fjSw"
      }
    },
    {
      "cell_type": "code",
      "source": [
        "# First few rows of the dataset\n",
        "print(dataset.head())"
      ],
      "metadata": {
        "colab": {
          "base_uri": "https://localhost:8080/"
        },
        "id": "AyiO6oeqfkko",
        "outputId": "c6e8340e-7963-4566-bd42-b372f01823f6"
      },
      "execution_count": 3,
      "outputs": [
        {
          "output_type": "stream",
          "name": "stdout",
          "text": [
            "   radius_mean  texture_mean  perimeter_mean  area_mean  smoothness_mean  \\\n",
            "0     1.097064     -2.073335        1.269934   0.984375         1.568466   \n",
            "1     1.829821     -0.353632        1.685955   1.908708        -0.826962   \n",
            "2     1.579888      0.456187        1.566503   1.558884         0.942210   \n",
            "3    -0.768909      0.253732       -0.592687  -0.764464         3.283553   \n",
            "4     1.750297     -1.151816        1.776573   1.826229         0.280372   \n",
            "\n",
            "   compactness_mean  concavity_mean  concave points_mean  symmetry_mean  \\\n",
            "0          3.283515        2.652874             2.532475       2.217515   \n",
            "1         -0.487072       -0.023846             0.548144       0.001392   \n",
            "2          1.052926        1.363478             2.037231       0.939685   \n",
            "3          3.402909        1.915897             1.451707       2.867383   \n",
            "4          0.539340        1.371011             1.428493      -0.009560   \n",
            "\n",
            "   fractal_dimension_mean  ...  texture_worst  perimeter_worst  area_worst  \\\n",
            "0                2.255747  ...      -1.359293         2.303601    2.001237   \n",
            "1               -0.868652  ...      -0.369203         1.535126    1.890489   \n",
            "2               -0.398008  ...      -0.023974         1.347475    1.456285   \n",
            "3                4.910919  ...       0.133984        -0.249939   -0.550021   \n",
            "4               -0.562450  ...      -1.466770         1.338539    1.220724   \n",
            "\n",
            "   smoothness_worst  compactness_worst  concavity_worst  concave points_worst  \\\n",
            "0          1.307686           2.616665         2.109526              2.296076   \n",
            "1         -0.375612          -0.430444        -0.146749              1.087084   \n",
            "2          0.527407           1.082932         0.854974              1.955000   \n",
            "3          3.394275           3.893397         1.989588              2.175786   \n",
            "4          0.220556          -0.313395         0.613179              0.729259   \n",
            "\n",
            "   symmetry_worst  fractal_dimension_worst  diagnosis  \n",
            "0        2.750622                 1.937015          1  \n",
            "1       -0.243890                 0.281190          1  \n",
            "2        1.152255                 0.201391          1  \n",
            "3        6.046041                 4.935010          1  \n",
            "4       -0.868353                -0.397100          1  \n",
            "\n",
            "[5 rows x 31 columns]\n"
          ]
        }
      ]
    },
    {
      "cell_type": "markdown",
      "source": [
        "## Feature Selection"
      ],
      "metadata": {
        "id": "XLwsv_lXfrGo"
      }
    },
    {
      "cell_type": "code",
      "source": [
        "# Split the Dataset into Features and Target\n",
        "X = dataset.drop('diagnosis', axis=1)\n",
        "y = dataset['diagnosis']"
      ],
      "metadata": {
        "id": "_HOPqMHXk4pU"
      },
      "execution_count": 4,
      "outputs": []
    },
    {
      "cell_type": "code",
      "source": [
        "# Variance Threshold to Remove Low-Variance Features\n",
        "selector = VarianceThreshold(threshold=0.1)\n",
        "features_vt = selector.fit_transform(X)"
      ],
      "metadata": {
        "id": "Z06Zr61jfsy-"
      },
      "execution_count": 5,
      "outputs": []
    },
    {
      "cell_type": "code",
      "source": [
        "# Recursive Feature Elimination (RFE)\n",
        "rfe = RFE(estimator=LogisticRegression(), n_features_to_select=10)\n",
        "features_rfe = rfe.fit_transform(X, y)"
      ],
      "metadata": {
        "id": "7LaI5t-2lZww"
      },
      "execution_count": 6,
      "outputs": []
    },
    {
      "cell_type": "code",
      "source": [
        "# Initialize the Logistic Regression model\n",
        "model = LogisticRegression(max_iter=1000, random_state=42)\n",
        "\n",
        "# Cross-validation for Variance Threshold-selected features\n",
        "scores_vt = cross_val_score(model, features_vt, y, cv=5, scoring='accuracy')\n",
        "mean_score_vt = np.mean(scores_vt)\n",
        "print(\"Mean Accuracy Score for Variance Threshold:\", mean_score_vt)\n",
        "\n",
        "# Cross-validation for RFE-selected features\n",
        "scores_rfe = cross_val_score(model, features_rfe, y, cv=5, scoring='accuracy')\n",
        "mean_score_rfe = np.mean(scores_rfe)\n",
        "print(\"Mean Accuracy Score for Recursive Feature Elimination (RFE):\", mean_score_rfe)"
      ],
      "metadata": {
        "colab": {
          "base_uri": "https://localhost:8080/"
        },
        "id": "iVAieawqlcpK",
        "outputId": "87eccba6-e134-4853-d702-ed8c75dffea3"
      },
      "execution_count": 7,
      "outputs": [
        {
          "output_type": "stream",
          "name": "stdout",
          "text": [
            "Mean Accuracy Score for Variance Threshold: 0.9806862288464524\n",
            "Mean Accuracy Score for Recursive Feature Elimination (RFE): 0.968390001552554\n"
          ]
        }
      ]
    },
    {
      "cell_type": "code",
      "source": [
        "# Shape of the chosen feature set\n",
        "print(\"Shape of the selected feature set:\", features_vt.shape)"
      ],
      "metadata": {
        "colab": {
          "base_uri": "https://localhost:8080/"
        },
        "id": "6Ihie8Kcl_YH",
        "outputId": "68ef4890-6e92-4264-fc36-dcfa2fe22eb5"
      },
      "execution_count": 8,
      "outputs": [
        {
          "output_type": "stream",
          "name": "stdout",
          "text": [
            "Shape of the selected feature set: (569, 30)\n"
          ]
        }
      ]
    },
    {
      "cell_type": "code",
      "source": [
        "# Split data into train and test sets\n",
        "X_train, X_test, y_train, y_test = train_test_split(features_vt, y, test_size=0.2, random_state=42)"
      ],
      "metadata": {
        "id": "FiGbzgJPmuiT"
      },
      "execution_count": 9,
      "outputs": []
    },
    {
      "cell_type": "markdown",
      "source": [
        "## Model Training and Testing"
      ],
      "metadata": {
        "id": "XUJY9AMHmQw9"
      }
    },
    {
      "cell_type": "code",
      "source": [
        "# Classifier 1: Decision Tree\n",
        "dt_model = DecisionTreeClassifier()\n",
        "dt_model.fit(X_train, y_train)\n",
        "y_pred_dt = dt_model.predict(X_test)\n",
        "\n",
        "# Classifier 2: Random Forest\n",
        "rf_model = RandomForestClassifier()\n",
        "rf_model.fit(X_train, y_train)\n",
        "y_pred_rf = rf_model.predict(X_test)\n",
        "\n",
        "# Classifier 3: Support Vector Machine (SVM)\n",
        "svm_model = SVC()\n",
        "svm_model.fit(X_train, y_train)\n",
        "y_pred_svm = svm_model.predict(X_test)\n",
        "\n",
        "# Classifier 4: K-Nearest Neighbors (KNN)\n",
        "knn_model = KNeighborsClassifier()\n",
        "knn_model.fit(X_train, y_train)\n",
        "y_pred_knn = knn_model.predict(X_test)\n",
        "\n",
        "# Classifier 5: Gradient Boosting Classifier\n",
        "gb_model = GradientBoostingClassifier()\n",
        "gb_model.fit(X_train, y_train)\n",
        "y_pred_gb = gb_model.predict(X_test)"
      ],
      "metadata": {
        "id": "B_DK4y0gu5no"
      },
      "execution_count": 10,
      "outputs": []
    },
    {
      "cell_type": "markdown",
      "source": [
        "## Model Evaluation and Analysis"
      ],
      "metadata": {
        "id": "6LeTV382wBpT"
      }
    },
    {
      "cell_type": "markdown",
      "source": [
        "### Decision Tree"
      ],
      "metadata": {
        "id": "5dY5wyQcoZ_H"
      }
    },
    {
      "cell_type": "code",
      "source": [
        "# Model Evaluation\n",
        "accuracy_dt = accuracy_score(y_test, y_pred_dt)\n",
        "precision_dt = precision_score(y_test, y_pred_dt, average='weighted')\n",
        "recall_dt = recall_score(y_test, y_pred_dt, average='weighted')\n",
        "f1_dt = f1_score(y_test, y_pred_dt, average='weighted')\n",
        "class_report_dt = classification_report(y_test, y_pred_dt)\n",
        "conf_matrix_dt = confusion_matrix(y_test, y_pred_dt)"
      ],
      "metadata": {
        "id": "8_5LDb0XpGnP"
      },
      "execution_count": 11,
      "outputs": []
    },
    {
      "cell_type": "code",
      "source": [
        "# Accuracy Score\n",
        "print(f\"Accuracy: {accuracy_dt:.2f}\")\n",
        "\n",
        "# Precision Score\n",
        "print(f\"Precision: {precision_dt:.2f}\")\n",
        "\n",
        "# Recall Score\n",
        "print(f\"Recall: {recall_dt:.2f}\")\n",
        "\n",
        "# F1 Score\n",
        "print(f\"F1-Score: {f1_dt:.2f}\")"
      ],
      "metadata": {
        "colab": {
          "base_uri": "https://localhost:8080/"
        },
        "id": "dBXDuP8vp4eW",
        "outputId": "2634a375-02fc-4b76-893e-de8b390bcc7f"
      },
      "execution_count": 12,
      "outputs": [
        {
          "output_type": "stream",
          "name": "stdout",
          "text": [
            "Accuracy: 0.94\n",
            "Precision: 0.94\n",
            "Recall: 0.94\n",
            "F1-Score: 0.94\n"
          ]
        }
      ]
    },
    {
      "cell_type": "code",
      "source": [
        "# Classification Report\n",
        "print(\"Classification Report:\\n\", class_report_dt)"
      ],
      "metadata": {
        "colab": {
          "base_uri": "https://localhost:8080/"
        },
        "id": "Djj0_Hphp6MY",
        "outputId": "df1b0548-b721-4384-aae3-fc7c652c963b"
      },
      "execution_count": 13,
      "outputs": [
        {
          "output_type": "stream",
          "name": "stdout",
          "text": [
            "Classification Report:\n",
            "               precision    recall  f1-score   support\n",
            "\n",
            "           0       0.96      0.94      0.95        71\n",
            "           1       0.91      0.93      0.92        43\n",
            "\n",
            "    accuracy                           0.94       114\n",
            "   macro avg       0.93      0.94      0.93       114\n",
            "weighted avg       0.94      0.94      0.94       114\n",
            "\n"
          ]
        }
      ]
    },
    {
      "cell_type": "code",
      "source": [
        "# Confusion Matrix\n",
        "plt.figure(figsize=(8, 6))\n",
        "sns.heatmap(conf_matrix_dt, annot=True, fmt='d', cmap='Blues', cbar=False)\n",
        "plt.title('Confusion Matrix for Decision Tree Classifier')\n",
        "plt.xlabel('Predicted Label')\n",
        "plt.ylabel('True Label')\n",
        "plt.show()"
      ],
      "metadata": {
        "colab": {
          "base_uri": "https://localhost:8080/",
          "height": 564
        },
        "id": "83q7aq7lp_bg",
        "outputId": "e4795615-2528-4e19-ef5d-f51cc85c9a4f"
      },
      "execution_count": 14,
      "outputs": [
        {
          "output_type": "display_data",
          "data": {
            "text/plain": [
              "<Figure size 800x600 with 1 Axes>"
            ],
            "image/png": "[encoded data removed]"
          },
          "metadata": {}
        }
      ]
    },
    {
      "cell_type": "markdown",
      "source": [
        "### Random Forest"
      ],
      "metadata": {
        "id": "fUp9VLb9ofQs"
      }
    },
    {
      "cell_type": "code",
      "source": [
        "# Model Evaluation\n",
        "accuracy_rf = accuracy_score(y_test, y_pred_rf)\n",
        "precision_rf = precision_score(y_test, y_pred_dt, average='weighted')\n",
        "recall_rf = recall_score(y_test, y_pred_dt, average='weighted')\n",
        "f1_rf = f1_score(y_test, y_pred_dt, average='weighted')\n",
        "class_report_rf = classification_report(y_test, y_pred_rf)\n",
        "conf_matrix_rf = confusion_matrix(y_test, y_pred_rf)"
      ],
      "metadata": {
        "id": "zlfuqz_nqF9c"
      },
      "execution_count": 15,
      "outputs": []
    },
    {
      "cell_type": "code",
      "source": [
        "# Accuracy Score\n",
        "print(f\"Accuracy: {accuracy_rf:.2f}\")\n",
        "\n",
        "# Precision Score\n",
        "print(f\"Precision: {precision_rf:.2f}\")\n",
        "\n",
        "# Recall Score\n",
        "print(f\"Recall: {recall_rf:.2f}\")\n",
        "\n",
        "# F1 Score\n",
        "print(f\"F1-Score: {f1_rf:.2f}\")"
      ],
      "metadata": {
        "colab": {
          "base_uri": "https://localhost:8080/"
        },
        "id": "qUKSTHYxqLmm",
        "outputId": "9f17ad59-9291-4fdd-c5ed-15293a845223"
      },
      "execution_count": 16,
      "outputs": [
        {
          "output_type": "stream",
          "name": "stdout",
          "text": [
            "Accuracy: 0.96\n",
            "Precision: 0.94\n",
            "Recall: 0.94\n",
            "F1-Score: 0.94\n"
          ]
        }
      ]
    },
    {
      "cell_type": "code",
      "source": [
        "# Classification Report\n",
        "print(\"Classification Report:\\n\", class_report_rf)"
      ],
      "metadata": {
        "colab": {
          "base_uri": "https://localhost:8080/"
        },
        "id": "fATUSV1kqOMC",
        "outputId": "95b853c3-184d-4bc3-f11e-444da8454ae3"
      },
      "execution_count": 17,
      "outputs": [
        {
          "output_type": "stream",
          "name": "stdout",
          "text": [
            "Classification Report:\n",
            "               precision    recall  f1-score   support\n",
            "\n",
            "           0       0.96      0.99      0.97        71\n",
            "           1       0.98      0.93      0.95        43\n",
            "\n",
            "    accuracy                           0.96       114\n",
            "   macro avg       0.97      0.96      0.96       114\n",
            "weighted avg       0.97      0.96      0.96       114\n",
            "\n"
          ]
        }
      ]
    },
    {
      "cell_type": "code",
      "source": [
        "# Confusion Matrix\n",
        "plt.figure(figsize=(8, 6))\n",
        "sns.heatmap(conf_matrix_rf, annot=True, fmt='d', cmap='Greens', cbar=False)\n",
        "plt.title('Confusion Matrix for Decision Tree Classifier')\n",
        "plt.xlabel('Predicted Label')\n",
        "plt.ylabel('True Label')\n",
        "plt.show()"
      ],
      "metadata": {
        "colab": {
          "base_uri": "https://localhost:8080/",
          "height": 564
        },
        "id": "lYtZ6JxBqQoB",
        "outputId": "682702fc-4cc9-4ba8-a15e-85f1507e87a2"
      },
      "execution_count": 18,
      "outputs": [
        {
          "output_type": "display_data",
          "data": {
            "text/plain": [
              "<Figure size 800x600 with 1 Axes>"
            ],
            "image/png": "[encoded data removed]"
          },
          "metadata": {}
        }
      ]
    },
    {
      "cell_type": "markdown",
      "source": [
        "### Support Vector Machine"
      ],
      "metadata": {
        "id": "iMWrhwYEofzn"
      }
    },
    {
      "cell_type": "code",
      "source": [
        "# Model Evaluation\n",
        "accuracy_svm = accuracy_score(y_test, y_pred_svm)\n",
        "precision_svm = precision_score(y_test, y_pred_dt, average='weighted')\n",
        "recall_svm = recall_score(y_test, y_pred_dt, average='weighted')\n",
        "f1_svm = f1_score(y_test, y_pred_dt, average='weighted')\n",
        "class_report_svm = classification_report(y_test, y_pred_svm)\n",
        "conf_matrix_svm = confusion_matrix(y_test, y_pred_svm)"
      ],
      "metadata": {
        "id": "NsGbgOyHqpwU"
      },
      "execution_count": 19,
      "outputs": []
    },
    {
      "cell_type": "code",
      "source": [
        "# Accuracy Score\n",
        "print(f\"Accuracy: {accuracy_svm:.2f}\")\n",
        "\n",
        "# Precision Score\n",
        "print(f\"Precision: {precision_svm:.2f}\")\n",
        "\n",
        "# Recall Score\n",
        "print(f\"Recall: {recall_svm:.2f}\")\n",
        "\n",
        "# F1 Score\n",
        "print(f\"F1-Score: {f1_svm:.2f}\")"
      ],
      "metadata": {
        "colab": {
          "base_uri": "https://localhost:8080/"
        },
        "id": "-WoDsEcxqtpx",
        "outputId": "ed02f686-843e-4ee3-d00c-8b953d2e31dd"
      },
      "execution_count": 20,
      "outputs": [
        {
          "output_type": "stream",
          "name": "stdout",
          "text": [
            "Accuracy: 0.97\n",
            "Precision: 0.94\n",
            "Recall: 0.94\n",
            "F1-Score: 0.94\n"
          ]
        }
      ]
    },
    {
      "cell_type": "code",
      "source": [
        "# Classification Report\n",
        "print(\"Classification Report:\\n\", class_report_svm)"
      ],
      "metadata": {
        "colab": {
          "base_uri": "https://localhost:8080/"
        },
        "id": "hofkKRFHqvVl",
        "outputId": "7ecbcd23-63b4-4e48-f60c-a3b78fed2467"
      },
      "execution_count": 21,
      "outputs": [
        {
          "output_type": "stream",
          "name": "stdout",
          "text": [
            "Classification Report:\n",
            "               precision    recall  f1-score   support\n",
            "\n",
            "           0       0.97      0.99      0.98        71\n",
            "           1       0.98      0.95      0.96        43\n",
            "\n",
            "    accuracy                           0.97       114\n",
            "   macro avg       0.97      0.97      0.97       114\n",
            "weighted avg       0.97      0.97      0.97       114\n",
            "\n"
          ]
        }
      ]
    },
    {
      "cell_type": "code",
      "source": [
        "# Confusion Matrix\n",
        "plt.figure(figsize=(8, 6))\n",
        "sns.heatmap(conf_matrix_svm, annot=True, fmt='d', cmap='Oranges', cbar=False)\n",
        "plt.title('Confusion Matrix for SVM Classifier')\n",
        "plt.xlabel('Predicted Label')\n",
        "plt.ylabel('True Label')\n",
        "plt.show()"
      ],
      "metadata": {
        "colab": {
          "base_uri": "https://localhost:8080/",
          "height": 564
        },
        "id": "GyaaPorfqyqX",
        "outputId": "b15166e2-1bda-4c00-e4fe-4f6c292383bb"
      },
      "execution_count": 22,
      "outputs": [
        {
          "output_type": "display_data",
          "data": {
            "text/plain": [
              "<Figure size 800x600 with 1 Axes>"
            ],
            "image/png": "[encoded data removed]"
          },
          "metadata": {}
        }
      ]
    },
    {
      "cell_type": "markdown",
      "source": [
        "### K-Nearest Neighbors"
      ],
      "metadata": {
        "id": "npUmbzHjonBy"
      }
    },
    {
      "cell_type": "code",
      "source": [
        "# Model Evaluation\n",
        "accuracy_knn = accuracy_score(y_test, y_pred_knn)\n",
        "precision_knn = precision_score(y_test, y_pred_dt, average='weighted')\n",
        "recall_knn = recall_score(y_test, y_pred_dt, average='weighted')\n",
        "f1_knn = f1_score(y_test, y_pred_dt, average='weighted')\n",
        "class_report_knn = classification_report(y_test, y_pred_knn)\n",
        "conf_matrix_knn = confusion_matrix(y_test, y_pred_knn)"
      ],
      "metadata": {
        "id": "D8Q8QHwxq-Kc"
      },
      "execution_count": 23,
      "outputs": []
    },
    {
      "cell_type": "code",
      "source": [
        "# Accuracy Score\n",
        "print(f\"Accuracy: {accuracy_knn:.2f}\")\n",
        "\n",
        "# Precision Score\n",
        "print(f\"Precision: {precision_knn:.2f}\")\n",
        "\n",
        "# Recall Score\n",
        "print(f\"Recall: {recall_knn:.2f}\")\n",
        "\n",
        "# F1 Score\n",
        "print(f\"F1-Score: {f1_knn:.2f}\")"
      ],
      "metadata": {
        "colab": {
          "base_uri": "https://localhost:8080/"
        },
        "id": "nm7viwlZq-Zv",
        "outputId": "ed698628-394a-419c-96ba-4c195a443154"
      },
      "execution_count": 24,
      "outputs": [
        {
          "output_type": "stream",
          "name": "stdout",
          "text": [
            "Accuracy: 0.95\n",
            "Precision: 0.94\n",
            "Recall: 0.94\n",
            "F1-Score: 0.94\n"
          ]
        }
      ]
    },
    {
      "cell_type": "code",
      "source": [
        "# Classification Report\n",
        "print(\"Classification Report:\\n\", class_report_knn)"
      ],
      "metadata": {
        "colab": {
          "base_uri": "https://localhost:8080/"
        },
        "id": "qPnS6vleq-mW",
        "outputId": "61a912d3-8d10-406d-e165-1fabb08d8b39"
      },
      "execution_count": 25,
      "outputs": [
        {
          "output_type": "stream",
          "name": "stdout",
          "text": [
            "Classification Report:\n",
            "               precision    recall  f1-score   support\n",
            "\n",
            "           0       0.96      0.96      0.96        71\n",
            "           1       0.93      0.93      0.93        43\n",
            "\n",
            "    accuracy                           0.95       114\n",
            "   macro avg       0.94      0.94      0.94       114\n",
            "weighted avg       0.95      0.95      0.95       114\n",
            "\n"
          ]
        }
      ]
    },
    {
      "cell_type": "code",
      "source": [
        "# Confusion Matrix\n",
        "plt.figure(figsize=(8, 6))\n",
        "sns.heatmap(conf_matrix_knn, annot=True, fmt='d', cmap='Purples', cbar=False)\n",
        "plt.title('Confusion Matrix for K-Nearest Neighbors (KNN)')\n",
        "plt.xlabel('Predicted Label')\n",
        "plt.ylabel('True Label')\n",
        "plt.show()"
      ],
      "metadata": {
        "colab": {
          "base_uri": "https://localhost:8080/",
          "height": 564
        },
        "id": "cmbOOV72q-xu",
        "outputId": "11610ab6-c3c2-4de8-e82f-75cde250f491"
      },
      "execution_count": 26,
      "outputs": [
        {
          "output_type": "display_data",
          "data": {
            "text/plain": [
              "<Figure size 800x600 with 1 Axes>"
            ],
            "image/png": "[encoded data removed]"
          },
          "metadata": {}
        }
      ]
    },
    {
      "cell_type": "markdown",
      "source": [
        "### Gradient Boosting"
      ],
      "metadata": {
        "id": "-EkkCFalovbg"
      }
    },
    {
      "cell_type": "code",
      "source": [
        "# Model Evaluation\n",
        "accuracy_gb = accuracy_score(y_test, y_pred_gb)\n",
        "precision_gb = precision_score(y_test, y_pred_dt, average='weighted')\n",
        "recall_gb = recall_score(y_test, y_pred_dt, average='weighted')\n",
        "f1_gb = f1_score(y_test, y_pred_dt, average='weighted')\n",
        "class_report_gb = classification_report(y_test, y_pred_gb)\n",
        "conf_matrix_gb = confusion_matrix(y_test, y_pred_gb)"
      ],
      "metadata": {
        "id": "nydCWRu9rBiJ"
      },
      "execution_count": 27,
      "outputs": []
    },
    {
      "cell_type": "code",
      "source": [
        "# Accuracy Score\n",
        "print(f\"Accuracy: {accuracy_gb:.2f}\")\n",
        "\n",
        "# Precision Score\n",
        "print(f\"Precision: {precision_gb:.2f}\")\n",
        "\n",
        "# Recall Score\n",
        "print(f\"Recall: {recall_gb:.2f}\")\n",
        "\n",
        "# F1 Score\n",
        "print(f\"F1-Score: {f1_gb:.2f}\")"
      ],
      "metadata": {
        "colab": {
          "base_uri": "https://localhost:8080/"
        },
        "id": "rmYv4BNgrBaF",
        "outputId": "854a05ad-4e27-4a2e-84c1-e775ca4302e1"
      },
      "execution_count": 28,
      "outputs": [
        {
          "output_type": "stream",
          "name": "stdout",
          "text": [
            "Accuracy: 0.96\n",
            "Precision: 0.94\n",
            "Recall: 0.94\n",
            "F1-Score: 0.94\n"
          ]
        }
      ]
    },
    {
      "cell_type": "code",
      "source": [
        "# Classification Report\n",
        "print(\"Classification Report:\\n\", class_report_gb)"
      ],
      "metadata": {
        "colab": {
          "base_uri": "https://localhost:8080/"
        },
        "id": "sU9dpYvGrBTw",
        "outputId": "1b92f05a-e350-43de-f835-eb0c700fe1cd"
      },
      "execution_count": 29,
      "outputs": [
        {
          "output_type": "stream",
          "name": "stdout",
          "text": [
            "Classification Report:\n",
            "               precision    recall  f1-score   support\n",
            "\n",
            "           0       0.96      0.97      0.97        71\n",
            "           1       0.95      0.93      0.94        43\n",
            "\n",
            "    accuracy                           0.96       114\n",
            "   macro avg       0.96      0.95      0.95       114\n",
            "weighted avg       0.96      0.96      0.96       114\n",
            "\n"
          ]
        }
      ]
    },
    {
      "cell_type": "code",
      "source": [
        "# Confusion Matrix\n",
        "plt.figure(figsize=(8, 6))\n",
        "sns.heatmap(conf_matrix_gb, annot=True, fmt='d', cmap='Greys', cbar=False)\n",
        "plt.title('Confusion Matrix for Gradient Boosting Classifier')\n",
        "plt.xlabel('Predicted Label')\n",
        "plt.ylabel('True Label')\n",
        "plt.show()"
      ],
      "metadata": {
        "colab": {
          "base_uri": "https://localhost:8080/",
          "height": 564
        },
        "id": "3JVEa2Y1rBGB",
        "outputId": "78bc0b76-4957-48fd-fab4-5659f3d793b9"
      },
      "execution_count": 30,
      "outputs": [
        {
          "output_type": "display_data",
          "data": {
            "text/plain": [
              "<Figure size 800x600 with 1 Axes>"
            ],
            "image/png": "[encoded data removed]"
          },
          "metadata": {}
        }
      ]
    },
    {
      "cell_type": "markdown",
      "source": [
        "## Analysis of Classifier Performance\n",
        "\n",
        "1.  Accuracy:\n",
        " * All classifiers performed exceptionally well, with accuracy scores ranging from 0.95 to 0.97.\n",
        " * The Support Vector Machine (SVM) had the highest accuracy at 0.97, indicating it was slightly better at correctly classifying instances.\n",
        "\n",
        "2. Precision, Recall, and F1-Score:\n",
        " * Precision, Recall, and F1-Score are all consistently high (between 0.93 to 0.98 across classes).\n",
        " * SVM and Random Forest showed higher scores for the minority class (1), suggesting they were more reliable in identifying true positives and minimizing false positives.\n",
        " * K-Nearest Neighbors (KNN) and Decision Tree had slightly lower precision and recall for the minority class compared to SVM and Random Forest, but overall performance was still strong.\n",
        "\n",
        "3. Classification Report:\n",
        " * The SVM classifier stood out for having the highest f1-score for both classes, demonstrating an effective balance between precision and recall.\n",
        " * Random Forest also exhibited very competitive results, showing particularly high precision for class 1.\n",
        "\n",
        "Summary of Findings:\n",
        "SVM showed the best performance overall with an accuracy of 0.97 and consistently high precision, recall, and F1-scores across both classes.\n",
        "Random Forest and Gradient Boosting also performed very well, offering slightly lower accuracy but still providing strong and balanced performance metrics.\n",
        "Decision Tree and KNN performed well but showed slightly reduced precision and recall for the minority class, indicating a minor weakness in handling positive class predictions compared to SVM.\n",
        "Based on these results, the Support Vector Machine and Random Forest appear to be the most effective classifiers for this dataset, providing high accuracy and strong predictive capabilities across both classes."
      ],
      "metadata": {
        "id": "NiW0eD0LtSnh"
      }
    }
  ]
}